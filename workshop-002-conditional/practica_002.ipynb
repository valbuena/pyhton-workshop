{
 "cells": [
  {
   "cell_type": "code",
   "execution_count": 3,
   "metadata": {},
   "outputs": [],
   "source": [
    "mi_lista = [1,2,3,4]"
   ]
  },
  {
   "cell_type": "code",
   "execution_count": 4,
   "metadata": {},
   "outputs": [
    {
     "data": {
      "text/plain": [
       "True"
      ]
     },
     "execution_count": 4,
     "metadata": {},
     "output_type": "execute_result"
    }
   ],
   "source": [
    "1 in mi_lista"
   ]
  },
  {
   "cell_type": "code",
   "execution_count": 5,
   "metadata": {},
   "outputs": [],
   "source": [
    "mi_lista_doble = []"
   ]
  },
  {
   "cell_type": "code",
   "execution_count": 7,
   "metadata": {},
   "outputs": [],
   "source": [
    "for elem in mi_lista:\n",
    "    mi_lista_doble.append(2 * elem)\n",
    "    "
   ]
  },
  {
   "cell_type": "code",
   "execution_count": 8,
   "metadata": {},
   "outputs": [
    {
     "data": {
      "text/plain": [
       "[2, 4, 6, 8]"
      ]
     },
     "execution_count": 8,
     "metadata": {},
     "output_type": "execute_result"
    }
   ],
   "source": [
    "mi_lista_doble"
   ]
  },
  {
   "cell_type": "code",
   "execution_count": 10,
   "metadata": {},
   "outputs": [],
   "source": [
    "mi_nombre='PyLadies'"
   ]
  },
  {
   "cell_type": "code",
   "execution_count": 11,
   "metadata": {},
   "outputs": [
    {
     "name": "stdout",
     "output_type": "stream",
     "text": [
      "P\n",
      "-\n",
      "y\n",
      "-\n",
      "L\n",
      "-\n",
      "a\n",
      "-\n",
      "d\n",
      "-\n",
      "i\n",
      "-\n",
      "e\n",
      "-\n",
      "s\n",
      "-\n"
     ]
    }
   ],
   "source": [
    "for elem in mi_nombre:\n",
    "    print(elem)\n",
    "    print('-')"
   ]
  },
  {
   "cell_type": "code",
   "execution_count": 22,
   "metadata": {},
   "outputs": [
    {
     "name": "stdout",
     "output_type": "stream",
     "text": [
      "2\n",
      "4\n",
      "16\n",
      "256\n"
     ]
    }
   ],
   "source": [
    "temp = 2\n",
    "while temp < 300:\n",
    "    print(temp)\n",
    "    temp = temp * temp"
   ]
  },
  {
   "cell_type": "code",
   "execution_count": 20,
   "metadata": {},
   "outputs": [
    {
     "name": "stdout",
     "output_type": "stream",
     "text": [
      "2\n",
      "4\n"
     ]
    }
   ],
   "source": [
    "temp = 2\n",
    "while temp < 300:\n",
    "    print(temp)\n",
    "    temp = temp * temp\n",
    "    if temp == 16:\n",
    "        break"
   ]
  },
  {
   "cell_type": "code",
   "execution_count": 23,
   "metadata": {},
   "outputs": [
    {
     "name": "stdout",
     "output_type": "stream",
     "text": [
      "2\n",
      "4\n",
      "16\n",
      "256\n"
     ]
    }
   ],
   "source": [
    "temp = 2\n",
    "while temp < 300:\n",
    "    print(temp)\n",
    "    temp = temp * temp\n",
    "    if temp == 16:\n",
    "        pass"
   ]
  },
  {
   "cell_type": "code",
   "execution_count": 25,
   "metadata": {},
   "outputs": [
    {
     "name": "stdout",
     "output_type": "stream",
     "text": [
      "2\n",
      "hola\n",
      "4\n",
      "16\n",
      "hola\n",
      "256\n",
      "hola\n"
     ]
    }
   ],
   "source": [
    "temp = 2\n",
    "while temp < 300:\n",
    "    print(temp)\n",
    "    temp = temp * temp\n",
    "    if temp == 16:\n",
    "        continue\n",
    "    print('hola')    "
   ]
  }
 ],
 "metadata": {
  "kernelspec": {
   "display_name": "Python 3",
   "language": "python",
   "name": "python3"
  },
  "language_info": {
   "codemirror_mode": {
    "name": "ipython",
    "version": 3
   },
   "file_extension": ".py",
   "mimetype": "text/x-python",
   "name": "python",
   "nbconvert_exporter": "python",
   "pygments_lexer": "ipython3",
   "version": "3.5.2"
  }
 },
 "nbformat": 4,
 "nbformat_minor": 2
}
